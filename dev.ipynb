{
 "cells": [
  {
   "cell_type": "code",
   "execution_count": 1,
   "metadata": {},
   "outputs": [
    {
     "name": "stderr",
     "output_type": "stream",
     "text": [
      "/usr/lib/python3/dist-packages/requests/__init__.py:89: RequestsDependencyWarning: urllib3 (1.26.12) or chardet (3.0.4) doesn't match a supported version!\n",
      "  warnings.warn(\"urllib3 ({}) or chardet ({}) doesn't match a supported \"\n",
      "2022-11-11 16:49:27.733 INFO    botocore.credentials: Found credentials in shared credentials file: ~/.aws/credentials\n",
      "2022-11-11 16:49:30.716 \n",
      "  \u001b[33m\u001b[1mWarning:\u001b[0m to view this Streamlit app on a browser, run it with the following\n",
      "  command:\n",
      "\n",
      "    streamlit run /home/chandrakanth/.local/lib/python3.8/site-packages/ipykernel_launcher.py [ARGUMENTS]\n"
     ]
    }
   ],
   "source": [
    "from app import *"
   ]
  },
  {
   "cell_type": "code",
   "execution_count": 4,
   "metadata": {},
   "outputs": [
    {
     "data": {
      "text/plain": [
       "['active_amzsl1',\n",
       " 'active_amzst1',\n",
       " 'active_bt3',\n",
       " 'active_ddd1',\n",
       " 'active_f26asbd',\n",
       " 'active_form26as',\n",
       " 'active_rcpt',\n",
       " 'active_rm2',\n",
       " 'active_soa',\n",
       " 'active_srr',\n",
       " 'active_tdsr',\n",
       " 'active_te1',\n",
       " 'amzsl1',\n",
       " 'amzst1',\n",
       " 'bt1',\n",
       " 'cod_frontendscreen',\n",
       " 'crosstan_rm2',\n",
       " 'ctrm2f2s_fr1',\n",
       " 'ctrm2f2t_fr1',\n",
       " 'dc_fr1',\n",
       " 'etds_bt3',\n",
       " 'etds_fr1',\n",
       " 'final_tdsdr',\n",
       " 'fkldly1',\n",
       " 'inactive_amzsl1',\n",
       " 'inactive_amzst1',\n",
       " 'inactive_ddd1',\n",
       " 'inactive_form26as',\n",
       " 'inactive_rcpt',\n",
       " 'inactive_srr',\n",
       " 'inactive_tdsr',\n",
       " 'inactive_te1',\n",
       " 'le10dtgt_fr1',\n",
       " 'le10dtle_fr1',\n",
       " 'le1dtgt_fr1',\n",
       " 'le1dtle_fr1',\n",
       " 'log_cdel',\n",
       " 'noupdate_amzsl1',\n",
       " 'noupdate_amzst1',\n",
       " 'noupdate_ddd1',\n",
       " 'noupdate_form26as',\n",
       " 'noupdate_rcpt',\n",
       " 'noupdate_srr',\n",
       " 'noupdate_tdsr',\n",
       " 'noupdate_te1',\n",
       " 'onecommerce_cdel',\n",
       " 'pdm_amzsl1',\n",
       " 'pdm_amzst1',\n",
       " 'pdm_ddd1',\n",
       " 'pdm_form26as',\n",
       " 'pdm_rcpt',\n",
       " 'pdm_srr',\n",
       " 'pdm_tdsr',\n",
       " 'pdm_te1',\n",
       " 'reject_rm2',\n",
       " 'revcrnote_fr1',\n",
       " 'revf26as_fr1',\n",
       " 'revtan_fr1',\n",
       " 'rm2imp_f26asvssrr_fr1',\n",
       " 'rm2imp_f26asvstdsr_fr1']"
      ]
     },
     "execution_count": 4,
     "metadata": {},
     "output_type": "execute_result"
    }
   ],
   "source": [
    "[x[\"Name\"] for x in tableInfo[\"TableMetadataList\"]]"
   ]
  },
  {
   "cell_type": "code",
   "execution_count": null,
   "metadata": {},
   "outputs": [],
   "source": []
  }
 ],
 "metadata": {
  "kernelspec": {
   "display_name": "Python 3.8.10 64-bit",
   "language": "python",
   "name": "python3"
  },
  "language_info": {
   "codemirror_mode": {
    "name": "ipython",
    "version": 3
   },
   "file_extension": ".py",
   "mimetype": "text/x-python",
   "name": "python",
   "nbconvert_exporter": "python",
   "pygments_lexer": "ipython3",
   "version": "3.8.10"
  },
  "orig_nbformat": 4,
  "vscode": {
   "interpreter": {
    "hash": "916dbcbb3f70747c44a77c7bcd40155683ae19c65e1c03b4aa3499c5328201f1"
   }
  }
 },
 "nbformat": 4,
 "nbformat_minor": 2
}
